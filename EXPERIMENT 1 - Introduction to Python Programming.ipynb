{
 "cells": [
  {
   "cell_type": "markdown",
   "id": "d4dd2bba-18ed-4f50-9c4b-ce15b42c9dc8",
   "metadata": {},
   "source": [
    "## Problem 1"
   ]
  },
  {
   "cell_type": "code",
   "execution_count": null,
   "id": "07d11f65-91cd-4cc5-9fc5-f7d3a6173663",
   "metadata": {},
   "outputs": [],
   "source": [
    "def alphabet_soup(word): # def name of function()\n",
    "  return ''.join(sorted(word)) # join and sort the word into group of letters\n",
    "\n",
    "word = input(\"Enter a word: \") # input a string\n",
    "\n",
    "result = alphabet_soup(word) # results\n",
    "\n",
    "print(result) # print results"
   ]
  },
  {
   "cell_type": "markdown",
   "id": "672ed860-2a0a-4ed0-84e7-73ab5d31e566",
   "metadata": {},
   "source": [
    "## Problem 2"
   ]
  },
  {
   "cell_type": "code",
   "execution_count": null,
   "id": "d82e3671-8ea8-423c-997d-a86a0e309860",
   "metadata": {},
   "outputs": [],
   "source": [
    "def emoticon(sentence): # def name of function()\n",
    "\n",
    "  # map words to their corresponding emoticons\n",
    "  emoticon_map = {\n",
    "      \"smile\": \":)\",\n",
    "      \"grin\": \":D\",\n",
    "      \"sad\": \":((\",\n",
    "      \"mad\": \">:(\" }\n",
    "\n",
    "  words = sentence.split() # split the sentence into words\n",
    "\n",
    "  # replace words with their corresponding emoticons\n",
    "  for i in range(len(words)): \n",
    "      if words[i] in emoticon_map:\n",
    "          words[i] = emoticon_map[words[i]]\n",
    "\n",
    "  return \" \".join(words) # join the words back into a sentence\n",
    "\n",
    "sentence = input(\"Enter a sentence: \") # input a sentence\n",
    "\n",
    "result = emoticon(sentence) # results\n",
    "\n",
    "print(result) # print results"
   ]
  },
  {
   "cell_type": "markdown",
   "id": "11dc2c9f-a647-4bd0-886d-0ba98d7f9dd2",
   "metadata": {},
   "source": [
    "## Problem 3"
   ]
  },
  {
   "cell_type": "code",
   "execution_count": null,
   "id": "9428e176-0c3a-451e-a433-a22ed6e29240",
   "metadata": {},
   "outputs": [],
   "source": [
    "lst = input(\"lst = \").split() # input a list (seperated with just spaces)\n",
    "\n",
    "# split the list into first, middle, and last\n",
    "first = lst[0]\n",
    "middle = lst[1:-1]\n",
    "last = lst[-1]\n",
    "\n",
    "# print results\n",
    "print(\"First:\", first, \"Middle:\", middle, \"Last:\", last)"
   ]
  },
  {
   "cell_type": "code",
   "execution_count": null,
   "id": "aa57d9c5-4c2e-406c-9148-949026eaad79",
   "metadata": {},
   "outputs": [],
   "source": []
  }
 ],
 "metadata": {
  "kernelspec": {
   "display_name": "Python 3 (ipykernel)",
   "language": "python",
   "name": "python3"
  },
  "language_info": {
   "codemirror_mode": {
    "name": "ipython",
    "version": 3
   },
   "file_extension": ".py",
   "mimetype": "text/x-python",
   "name": "python",
   "nbconvert_exporter": "python",
   "pygments_lexer": "ipython3",
   "version": "3.12.4"
  }
 },
 "nbformat": 4,
 "nbformat_minor": 5
}
